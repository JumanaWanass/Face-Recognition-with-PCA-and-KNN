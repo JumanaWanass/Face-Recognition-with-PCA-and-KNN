{
  "cells": [
    {
      "cell_type": "markdown",
      "metadata": {
        "id": "view-in-github",
        "colab_type": "text"
      },
      "source": [
        "<a href=\"https://colab.research.google.com/github/JumanaWanass/Face-Recognition-with-PCA-and-KNN/blob/main/Face_Recognition_with_PCA.ipynb\" target=\"_parent\"><img src=\"https://colab.research.google.com/assets/colab-badge.svg\" alt=\"Open In Colab\"/></a>"
      ]
    },
    {
      "cell_type": "markdown",
      "metadata": {
        "id": "xfgKzd_yqpUE"
      },
      "source": [
        "# Face Recognition with Dimensionality Reduction and KNN"
      ]
    },
    {
      "cell_type": "markdown",
      "metadata": {
        "id": "Ku3kvSl2qjjN"
      },
      "source": [
        "## 1. Data Preprocessing"
      ]
    },
    {
      "cell_type": "code",
      "execution_count": null,
      "metadata": {
        "id": "KuaLn88eDSGd"
      },
      "outputs": [],
      "source": [
        "import locale\n",
        "locale.getpreferredencoding = lambda: \"UTF-8\"\n"
      ]
    },
    {
      "cell_type": "code",
      "execution_count": null,
      "metadata": {
        "id": "Xbe-dS9jql1U"
      },
      "outputs": [],
      "source": [
        "!unzip archive.zip"
      ]
    },
    {
      "cell_type": "markdown",
      "metadata": {
        "id": "Wmp6SUKx-ggk"
      },
      "source": [
        "### 1.1 Importing libraries\n",
        "\n",
        "- `cupy`: GPU-accelerated library for numerical computations, compatible with NumPy.\n",
        "- `matplotlib`: Plotting library for creating visualizations in Python.\n",
        "- `sklearn.neighbors`: Implements k-nearest neighbors algorithms for classification and regression.\n",
        "- `GridSearchCV`: Part of scikit-learn, it performs exhaustive search over specified parameter values for an estimator.\n",
        "- `train_test_split`: Function for splitting datasets into training and testing sets.\n",
        "- `collections.defaultdict`: Dictionary subclass with a default value for new keys.\n",
        "- `accuracy_score, precision_score, recall_score, f1_score`: Metrics for evaluating classification models.\n",
        "- `confusion_matrix, ConfusionMatrixDisplay`: Tools for visualizing confusion matrices.\n",
        "- `pandas`: Data manipulation and analysis library, providing data structures and functions.\n",
        "- `numpy`: Fundamental package for scientific computing with Python.\n",
        "- `seaborn`: Statistical data visualization based on matplotlib.\n",
        "- `random`: Module for generating pseudorandom numbers.\n",
        "- `cv2`: OpenCV library for computer vision tasks.\n"
      ]
    },
    {
      "cell_type": "code",
      "execution_count": null,
      "metadata": {
        "id": "bQdDpUopqtsc"
      },
      "outputs": [],
      "source": [
        "import matplotlib.pyplot as plt\n",
        "import matplotlib.image as mpimg\n",
        "from sklearn.neighbors import KNeighborsClassifier\n",
        "from sklearn.model_selection import GridSearchCV\n",
        "from sklearn.model_selection import train_test_split\n",
        "from collections import defaultdict\n",
        "from sklearn.metrics import accuracy_score, precision_score, recall_score, f1_score, confusion_matrix,ConfusionMatrixDisplay\n",
        "import pandas as pd\n",
        "import numpy as np\n",
        "import seaborn as sns\n",
        "import random\n",
        "import cv2\n",
        "import os"
      ]
    },
    {
      "cell_type": "code",
      "execution_count": null,
      "metadata": {
        "id": "_kngt87Tq59s"
      },
      "outputs": [],
      "source": [
        "data_matrix = np.zeros((400,10304))\n",
        "label_vector = np.zeros((400,1))"
      ]
    },
    {
      "cell_type": "markdown",
      "metadata": {
        "id": "MT4cYFrspIp8"
      },
      "source": [
        "###1.2 Data Matrix formation and data split"
      ]
    },
    {
      "cell_type": "code",
      "execution_count": null,
      "metadata": {
        "id": "3zHsHxotq6B4"
      },
      "outputs": [],
      "source": [
        "for i in range(1,41):\n",
        "    for j in range(1,11):\n",
        "        path_for_image = 's' + str(i) + \"/\" + str(j) + \".pgm\"\n",
        "        img = np.reshape(np.array(mpimg.imread(path_for_image)),(1,10304))\n",
        "        data_matrix[(i-1)*10 + j - 1,:] = img\n",
        "        label_vector[(i-1)*10 + j - 1] = i"
      ]
    },
    {
      "cell_type": "code",
      "execution_count": null,
      "metadata": {
        "colab": {
          "base_uri": "https://localhost:8080/"
        },
        "id": "KuKj2NO0q6EV",
        "outputId": "e3221100-bcd1-42d3-afff-4c5bb3638244"
      },
      "outputs": [
        {
          "output_type": "stream",
          "name": "stdout",
          "text": [
            "(200, 10304)\n",
            "(200, 10304)\n"
          ]
        }
      ],
      "source": [
        "# Odd rows\n",
        "x_train = data_matrix[::2]\n",
        "y_train = label_vector[::2]\n",
        "\n",
        "# Even rows\n",
        "x_test = data_matrix[1::2]\n",
        "y_test = label_vector[1::2]\n",
        "\n",
        "print(x_train.shape)\n",
        "print(x_test.shape)"
      ]
    },
    {
      "cell_type": "markdown",
      "metadata": {
        "id": "4-uK8Niw1shb"
      },
      "source": [
        "## 2. PCA"
      ]
    },
    {
      "cell_type": "markdown",
      "metadata": {
        "id": "1qb53lNj30I0"
      },
      "source": [
        "### 2.1 Principal Component Analysis (PCA) Algorithm\n",
        "\n",
        "\n",
        "#### 1. Standardize the Data\n",
        "\n",
        "\n",
        "$ z_i = \\frac{x_i - \\mu_i}{\\sigma_i} $\n",
        "\n",
        "where  $\\mu_i$ is the mean and $\\sigma_i$ is the standard deviation of $x_i $.\n",
        "\n",
        "### 2. Compute the Covariance Matrix\n",
        "\n",
        "\n",
        "$Σ = \\frac{1}{m} \\sum_{i=1}^{m} (z^{(i)})^T \\cdot z^{(i)} $\n",
        "\n",
        "where $ m $ is the number of samples and $ z^{(i)} $ is the standardized feature vector of the $ i $-th sample.\n",
        "\n",
        "### 3. Compute Eigenvectors and Eigenvalues\n",
        "\n",
        "\n",
        "\n",
        "$Σ \\cdot v = \\lambda \\cdot v $\n",
        "\n",
        "where $v $ is the eigenvector and $ \\lambda $ is the eigenvalue.\n",
        "\n",
        "### 4. Sort Eigenvectors by Eigenvalues\n",
        "\n",
        "Sort the eigenvectors in descending order based on their corresponding eigenvalues. This ensures that the principal components are ranked by the amount of variance they explain.\n",
        "\n",
        "### 5. Select Principal Components\n",
        "\n",
        "Choose the top $k$ eigenvectors to form the new feature space (where $ k $ is the desired number of dimensions for the reduced data).\n",
        "\n",
        "### 6. Project Data onto the New Feature Space\n",
        "\n",
        "Project the original data onto the selected principal components to obtain the reduced-dimensional representation of the data.\n",
        "\n",
        "The reduced-dimensional data $ X_{\\text{new}} $ is obtained by:\n",
        "\n",
        "$ X_{\\text{new}} = X \\cdot W $\n",
        "\n",
        "where $ X $ is the original standardized data and $ W $ is the matrix of selected eigenvectors.\n"
      ]
    },
    {
      "cell_type": "markdown",
      "metadata": {
        "id": "W9UUdcAkHmma"
      },
      "source": [
        "### 2.2 Helping Functions"
      ]
    },
    {
      "cell_type": "markdown",
      "metadata": {
        "id": "HwtAp7cc-6lJ"
      },
      "source": [
        "Creating the projection matrix:"
      ]
    },
    {
      "cell_type": "code",
      "execution_count": null,
      "metadata": {
        "id": "4H4YBCErtVz3"
      },
      "outputs": [],
      "source": [
        "def ProjectionMatrix(D):\n",
        "  cov = np.cov(D.T,bias=True)\n",
        "  eigVal,eigVec = np.linalg.eigh(cov)\n",
        "  idx = eigVal.argsort()[::-1] #getting indices that would sort eigenvalues descendingly\n",
        "  eigVal = eigVal[idx]\n",
        "  eigVec = eigVec[:,idx]\n",
        "  return eigVal,eigVec"
      ]
    },
    {
      "cell_type": "markdown",
      "metadata": {
        "id": "RvPy-uCs-_dg"
      },
      "source": [
        "Creating the reduced basis"
      ]
    },
    {
      "cell_type": "code",
      "execution_count": null,
      "metadata": {
        "id": "EiByyW93tV19"
      },
      "outputs": [],
      "source": [
        "def getReducedBasis(eigVal, eigVec, a):\n",
        "    cumulativeSum = np.cumsum(eigVal[::-1])[::-1] #reverse cumulative sum\n",
        "    Eigsum = np.sum(eigVal) #represents the total variance of data\n",
        "    r = np.argwhere((cumulativeSum/Eigsum)>=a)[0][0] # Extracting the integer value\n",
        "    return eigVec[:,:r+1]\n"
      ]
    },
    {
      "cell_type": "markdown",
      "metadata": {
        "id": "X2SOfF-j_i0Z"
      },
      "source": [
        "PCA implemented on train set"
      ]
    },
    {
      "cell_type": "code",
      "execution_count": null,
      "metadata": {
        "id": "PEMoqw2eWWIJ"
      },
      "outputs": [],
      "source": [
        "def PCA(x_train, a):\n",
        "  eigVal,eigVec = ProjectionMatrix(x_train)\n",
        "  Ur = getReducedBasis(eigVal, eigVec, a)\n",
        "  x_train_projected = np.matmul(x_train, Ur)\n",
        "  x_test_projected = np.matmul(x_test, Ur)\n",
        "  return x_train_projected, x_test_projected"
      ]
    },
    {
      "cell_type": "markdown",
      "metadata": {
        "id": "LriPtUl9_lJh"
      },
      "source": [
        "### 2.3 Model Evaluation Metrics\n",
        "\n",
        "The following metrics are employed for evaluating the performance of the classification model:\n",
        "\n",
        "- **Accuracy Score**: Measures the overall correctness of the model by comparing correctly predicted instances to the total instances.\n",
        "\n",
        "- **Precision Score**: Indicates the proportion of true positive predictions among all positive predictions, providing insights into the model's precision in positive classifications.\n",
        "\n",
        "- **Recall Score**: Also known as sensitivity or true positive rate, it assesses the model's ability to capture all relevant instances by measuring the ratio of true positives to the total actual positives.\n",
        "\n",
        "- **F1 Score**: Harmonic mean of precision and recall, offering a balanced metric that considers both false positives and false negatives.\n"
      ]
    },
    {
      "cell_type": "code",
      "execution_count": null,
      "metadata": {
        "id": "1RrpU9KHugDe"
      },
      "outputs": [],
      "source": [
        "Metrics = [precision_score, recall_score, f1_score]\n",
        "MetricResults = defaultdict(list)\n",
        "CVresults = defaultdict(list)\n",
        "alpha_values = [0.8, 0.85, 0.9, 0.95]"
      ]
    },
    {
      "cell_type": "markdown",
      "metadata": {
        "id": "fmNEGf7hIRsd"
      },
      "source": [
        "###2.4 The KNN model"
      ]
    },
    {
      "cell_type": "code",
      "execution_count": null,
      "metadata": {
        "id": "tRPg5RPqwq2-"
      },
      "outputs": [],
      "source": [
        "def KNN(alpha_values, x_train, y_train, x_test, y_test, CVresults, MetricResults, Metrics):\n",
        "    for a in alpha_values:\n",
        "        x_train_projected, x_test_projected = PCA(x_train, a)\n",
        "        # The following lines are related to training the KNN model on the data\n",
        "        param = {'n_neighbors': list(range(1, 8, 2))}\n",
        "        Knnclf = GridSearchCV(KNeighborsClassifier(), param, verbose=1)\n",
        "        Knnclf.fit(x_train_projected, y_train.ravel())\n",
        "\n",
        "        # The following lines are related to measuring our model's performance\n",
        "        y_pred = Knnclf.best_estimator_.predict(x_test_projected)\n",
        "        Knnclf.cv_results_['alpha'] = a\n",
        "        CVresults['Result'].append(Knnclf.cv_results_)\n",
        "        MetricResults['alpha'].append(str(a))\n",
        "        MetricResults['accuracy_score'].append(accuracy_score(y_test, y_pred))\n",
        "\n",
        "        for metric in Metrics:\n",
        "            MetricResults[metric.__name__].append(metric(y_test, y_pred, average='macro'))\n",
        "\n",
        "    # The following lines are for visualizing the results\n",
        "    Res = pd.DataFrame.from_records(CVresults['Result'])\n",
        "    Res = Res[['alpha', 'param_n_neighbors', 'mean_test_score']].explode(['mean_test_score', 'param_n_neighbors']).reset_index(drop=True)\n",
        "    Res = Res.sort_values(['mean_test_score'], ascending=False)\n",
        "\n",
        "    return CVresults, MetricResults, Res\n"
      ]
    },
    {
      "cell_type": "markdown",
      "metadata": {
        "id": "9GacBLwu_rhm"
      },
      "source": [
        "## 3. Data Visualization"
      ]
    },
    {
      "cell_type": "code",
      "execution_count": null,
      "metadata": {
        "colab": {
          "base_uri": "https://localhost:8080/"
        },
        "id": "dlhByj8Ix34r",
        "outputId": "8aecfe6d-61cf-4b9b-897c-53e0b243f07e"
      },
      "outputs": [
        {
          "metadata": {
            "tags": null
          },
          "name": "stdout",
          "output_type": "stream",
          "text": [
            "Fitting 5 folds for each of 4 candidates, totalling 20 fits\n"
          ]
        },
        {
          "metadata": {
            "tags": null
          },
          "name": "stderr",
          "output_type": "stream",
          "text": [
            "/usr/local/lib/python3.10/dist-packages/sklearn/metrics/_classification.py:1344: UndefinedMetricWarning: Precision is ill-defined and being set to 0.0 in labels with no predicted samples. Use `zero_division` parameter to control this behavior.\n",
            "  _warn_prf(average, modifier, msg_start, len(result))\n"
          ]
        },
        {
          "metadata": {
            "tags": null
          },
          "name": "stdout",
          "output_type": "stream",
          "text": [
            "Fitting 5 folds for each of 4 candidates, totalling 20 fits\n"
          ]
        },
        {
          "metadata": {
            "tags": null
          },
          "name": "stderr",
          "output_type": "stream",
          "text": [
            "/usr/local/lib/python3.10/dist-packages/sklearn/metrics/_classification.py:1344: UndefinedMetricWarning: Precision is ill-defined and being set to 0.0 in labels with no predicted samples. Use `zero_division` parameter to control this behavior.\n",
            "  _warn_prf(average, modifier, msg_start, len(result))\n"
          ]
        },
        {
          "output_type": "stream",
          "name": "stdout",
          "text": [
            "Fitting 5 folds for each of 4 candidates, totalling 20 fits\n"
          ]
        },
        {
          "output_type": "stream",
          "name": "stderr",
          "text": [
            "/usr/local/lib/python3.10/dist-packages/sklearn/metrics/_classification.py:1344: UndefinedMetricWarning: Precision is ill-defined and being set to 0.0 in labels with no predicted samples. Use `zero_division` parameter to control this behavior.\n",
            "  _warn_prf(average, modifier, msg_start, len(result))\n"
          ]
        },
        {
          "output_type": "stream",
          "name": "stdout",
          "text": [
            "Fitting 5 folds for each of 4 candidates, totalling 20 fits\n"
          ]
        },
        {
          "output_type": "stream",
          "name": "stderr",
          "text": [
            "/usr/local/lib/python3.10/dist-packages/sklearn/metrics/_classification.py:1344: UndefinedMetricWarning: Precision is ill-defined and being set to 0.0 in labels with no predicted samples. Use `zero_division` parameter to control this behavior.\n",
            "  _warn_prf(average, modifier, msg_start, len(result))\n"
          ]
        }
      ],
      "source": [
        "CVresults, MetricResults, Res = KNN(alpha_values, x_train, y_train, x_test, y_test, CVresults, MetricResults, Metrics)"
      ]
    },
    {
      "cell_type": "code",
      "execution_count": null,
      "metadata": {
        "colab": {
          "base_uri": "https://localhost:8080/",
          "height": 551
        },
        "id": "GR5EIV-Ct-Pf",
        "outputId": "bf19599c-0c53-40fd-d6a9-f9ed13101935"
      },
      "outputs": [
        {
          "output_type": "execute_result",
          "data": {
            "text/plain": [
              "    alpha param_n_neighbors mean_test_score\n",
              "2    0.80                 5           0.145\n",
              "6    0.85                 5           0.145\n",
              "10   0.90                 5           0.145\n",
              "14   0.95                 5           0.145\n",
              "3    0.80                 7            0.14\n",
              "7    0.85                 7            0.14\n",
              "11   0.90                 7            0.14\n",
              "15   0.95                 7            0.14\n",
              "1    0.80                 3           0.105\n",
              "5    0.85                 3           0.105\n",
              "9    0.90                 3           0.105\n",
              "13   0.95                 3           0.105\n",
              "0    0.80                 1            0.09\n",
              "4    0.85                 1            0.09\n",
              "8    0.90                 1            0.09\n",
              "12   0.95                 1            0.09"
            ],
            "text/html": [
              "\n",
              "  <div id=\"df-6d705bac-c614-4e26-ab64-1262d41ab28c\" class=\"colab-df-container\">\n",
              "    <div>\n",
              "<style scoped>\n",
              "    .dataframe tbody tr th:only-of-type {\n",
              "        vertical-align: middle;\n",
              "    }\n",
              "\n",
              "    .dataframe tbody tr th {\n",
              "        vertical-align: top;\n",
              "    }\n",
              "\n",
              "    .dataframe thead th {\n",
              "        text-align: right;\n",
              "    }\n",
              "</style>\n",
              "<table border=\"1\" class=\"dataframe\">\n",
              "  <thead>\n",
              "    <tr style=\"text-align: right;\">\n",
              "      <th></th>\n",
              "      <th>alpha</th>\n",
              "      <th>param_n_neighbors</th>\n",
              "      <th>mean_test_score</th>\n",
              "    </tr>\n",
              "  </thead>\n",
              "  <tbody>\n",
              "    <tr>\n",
              "      <th>2</th>\n",
              "      <td>0.80</td>\n",
              "      <td>5</td>\n",
              "      <td>0.145</td>\n",
              "    </tr>\n",
              "    <tr>\n",
              "      <th>6</th>\n",
              "      <td>0.85</td>\n",
              "      <td>5</td>\n",
              "      <td>0.145</td>\n",
              "    </tr>\n",
              "    <tr>\n",
              "      <th>10</th>\n",
              "      <td>0.90</td>\n",
              "      <td>5</td>\n",
              "      <td>0.145</td>\n",
              "    </tr>\n",
              "    <tr>\n",
              "      <th>14</th>\n",
              "      <td>0.95</td>\n",
              "      <td>5</td>\n",
              "      <td>0.145</td>\n",
              "    </tr>\n",
              "    <tr>\n",
              "      <th>3</th>\n",
              "      <td>0.80</td>\n",
              "      <td>7</td>\n",
              "      <td>0.14</td>\n",
              "    </tr>\n",
              "    <tr>\n",
              "      <th>7</th>\n",
              "      <td>0.85</td>\n",
              "      <td>7</td>\n",
              "      <td>0.14</td>\n",
              "    </tr>\n",
              "    <tr>\n",
              "      <th>11</th>\n",
              "      <td>0.90</td>\n",
              "      <td>7</td>\n",
              "      <td>0.14</td>\n",
              "    </tr>\n",
              "    <tr>\n",
              "      <th>15</th>\n",
              "      <td>0.95</td>\n",
              "      <td>7</td>\n",
              "      <td>0.14</td>\n",
              "    </tr>\n",
              "    <tr>\n",
              "      <th>1</th>\n",
              "      <td>0.80</td>\n",
              "      <td>3</td>\n",
              "      <td>0.105</td>\n",
              "    </tr>\n",
              "    <tr>\n",
              "      <th>5</th>\n",
              "      <td>0.85</td>\n",
              "      <td>3</td>\n",
              "      <td>0.105</td>\n",
              "    </tr>\n",
              "    <tr>\n",
              "      <th>9</th>\n",
              "      <td>0.90</td>\n",
              "      <td>3</td>\n",
              "      <td>0.105</td>\n",
              "    </tr>\n",
              "    <tr>\n",
              "      <th>13</th>\n",
              "      <td>0.95</td>\n",
              "      <td>3</td>\n",
              "      <td>0.105</td>\n",
              "    </tr>\n",
              "    <tr>\n",
              "      <th>0</th>\n",
              "      <td>0.80</td>\n",
              "      <td>1</td>\n",
              "      <td>0.09</td>\n",
              "    </tr>\n",
              "    <tr>\n",
              "      <th>4</th>\n",
              "      <td>0.85</td>\n",
              "      <td>1</td>\n",
              "      <td>0.09</td>\n",
              "    </tr>\n",
              "    <tr>\n",
              "      <th>8</th>\n",
              "      <td>0.90</td>\n",
              "      <td>1</td>\n",
              "      <td>0.09</td>\n",
              "    </tr>\n",
              "    <tr>\n",
              "      <th>12</th>\n",
              "      <td>0.95</td>\n",
              "      <td>1</td>\n",
              "      <td>0.09</td>\n",
              "    </tr>\n",
              "  </tbody>\n",
              "</table>\n",
              "</div>\n",
              "    <div class=\"colab-df-buttons\">\n",
              "\n",
              "  <div class=\"colab-df-container\">\n",
              "    <button class=\"colab-df-convert\" onclick=\"convertToInteractive('df-6d705bac-c614-4e26-ab64-1262d41ab28c')\"\n",
              "            title=\"Convert this dataframe to an interactive table.\"\n",
              "            style=\"display:none;\">\n",
              "\n",
              "  <svg xmlns=\"http://www.w3.org/2000/svg\" height=\"24px\" viewBox=\"0 -960 960 960\">\n",
              "    <path d=\"M120-120v-720h720v720H120Zm60-500h600v-160H180v160Zm220 220h160v-160H400v160Zm0 220h160v-160H400v160ZM180-400h160v-160H180v160Zm440 0h160v-160H620v160ZM180-180h160v-160H180v160Zm440 0h160v-160H620v160Z\"/>\n",
              "  </svg>\n",
              "    </button>\n",
              "\n",
              "  <style>\n",
              "    .colab-df-container {\n",
              "      display:flex;\n",
              "      gap: 12px;\n",
              "    }\n",
              "\n",
              "    .colab-df-convert {\n",
              "      background-color: #E8F0FE;\n",
              "      border: none;\n",
              "      border-radius: 50%;\n",
              "      cursor: pointer;\n",
              "      display: none;\n",
              "      fill: #1967D2;\n",
              "      height: 32px;\n",
              "      padding: 0 0 0 0;\n",
              "      width: 32px;\n",
              "    }\n",
              "\n",
              "    .colab-df-convert:hover {\n",
              "      background-color: #E2EBFA;\n",
              "      box-shadow: 0px 1px 2px rgba(60, 64, 67, 0.3), 0px 1px 3px 1px rgba(60, 64, 67, 0.15);\n",
              "      fill: #174EA6;\n",
              "    }\n",
              "\n",
              "    .colab-df-buttons div {\n",
              "      margin-bottom: 4px;\n",
              "    }\n",
              "\n",
              "    [theme=dark] .colab-df-convert {\n",
              "      background-color: #3B4455;\n",
              "      fill: #D2E3FC;\n",
              "    }\n",
              "\n",
              "    [theme=dark] .colab-df-convert:hover {\n",
              "      background-color: #434B5C;\n",
              "      box-shadow: 0px 1px 3px 1px rgba(0, 0, 0, 0.15);\n",
              "      filter: drop-shadow(0px 1px 2px rgba(0, 0, 0, 0.3));\n",
              "      fill: #FFFFFF;\n",
              "    }\n",
              "  </style>\n",
              "\n",
              "    <script>\n",
              "      const buttonEl =\n",
              "        document.querySelector('#df-6d705bac-c614-4e26-ab64-1262d41ab28c button.colab-df-convert');\n",
              "      buttonEl.style.display =\n",
              "        google.colab.kernel.accessAllowed ? 'block' : 'none';\n",
              "\n",
              "      async function convertToInteractive(key) {\n",
              "        const element = document.querySelector('#df-6d705bac-c614-4e26-ab64-1262d41ab28c');\n",
              "        const dataTable =\n",
              "          await google.colab.kernel.invokeFunction('convertToInteractive',\n",
              "                                                    [key], {});\n",
              "        if (!dataTable) return;\n",
              "\n",
              "        const docLinkHtml = 'Like what you see? Visit the ' +\n",
              "          '<a target=\"_blank\" href=https://colab.research.google.com/notebooks/data_table.ipynb>data table notebook</a>'\n",
              "          + ' to learn more about interactive tables.';\n",
              "        element.innerHTML = '';\n",
              "        dataTable['output_type'] = 'display_data';\n",
              "        await google.colab.output.renderOutput(dataTable, element);\n",
              "        const docLink = document.createElement('div');\n",
              "        docLink.innerHTML = docLinkHtml;\n",
              "        element.appendChild(docLink);\n",
              "      }\n",
              "    </script>\n",
              "  </div>\n",
              "\n",
              "\n",
              "<div id=\"df-0b484d82-0f77-467b-b47b-8fbce837ab2c\">\n",
              "  <button class=\"colab-df-quickchart\" onclick=\"quickchart('df-0b484d82-0f77-467b-b47b-8fbce837ab2c')\"\n",
              "            title=\"Suggest charts\"\n",
              "            style=\"display:none;\">\n",
              "\n",
              "<svg xmlns=\"http://www.w3.org/2000/svg\" height=\"24px\"viewBox=\"0 0 24 24\"\n",
              "     width=\"24px\">\n",
              "    <g>\n",
              "        <path d=\"M19 3H5c-1.1 0-2 .9-2 2v14c0 1.1.9 2 2 2h14c1.1 0 2-.9 2-2V5c0-1.1-.9-2-2-2zM9 17H7v-7h2v7zm4 0h-2V7h2v10zm4 0h-2v-4h2v4z\"/>\n",
              "    </g>\n",
              "</svg>\n",
              "  </button>\n",
              "\n",
              "<style>\n",
              "  .colab-df-quickchart {\n",
              "      --bg-color: #E8F0FE;\n",
              "      --fill-color: #1967D2;\n",
              "      --hover-bg-color: #E2EBFA;\n",
              "      --hover-fill-color: #174EA6;\n",
              "      --disabled-fill-color: #AAA;\n",
              "      --disabled-bg-color: #DDD;\n",
              "  }\n",
              "\n",
              "  [theme=dark] .colab-df-quickchart {\n",
              "      --bg-color: #3B4455;\n",
              "      --fill-color: #D2E3FC;\n",
              "      --hover-bg-color: #434B5C;\n",
              "      --hover-fill-color: #FFFFFF;\n",
              "      --disabled-bg-color: #3B4455;\n",
              "      --disabled-fill-color: #666;\n",
              "  }\n",
              "\n",
              "  .colab-df-quickchart {\n",
              "    background-color: var(--bg-color);\n",
              "    border: none;\n",
              "    border-radius: 50%;\n",
              "    cursor: pointer;\n",
              "    display: none;\n",
              "    fill: var(--fill-color);\n",
              "    height: 32px;\n",
              "    padding: 0;\n",
              "    width: 32px;\n",
              "  }\n",
              "\n",
              "  .colab-df-quickchart:hover {\n",
              "    background-color: var(--hover-bg-color);\n",
              "    box-shadow: 0 1px 2px rgba(60, 64, 67, 0.3), 0 1px 3px 1px rgba(60, 64, 67, 0.15);\n",
              "    fill: var(--button-hover-fill-color);\n",
              "  }\n",
              "\n",
              "  .colab-df-quickchart-complete:disabled,\n",
              "  .colab-df-quickchart-complete:disabled:hover {\n",
              "    background-color: var(--disabled-bg-color);\n",
              "    fill: var(--disabled-fill-color);\n",
              "    box-shadow: none;\n",
              "  }\n",
              "\n",
              "  .colab-df-spinner {\n",
              "    border: 2px solid var(--fill-color);\n",
              "    border-color: transparent;\n",
              "    border-bottom-color: var(--fill-color);\n",
              "    animation:\n",
              "      spin 1s steps(1) infinite;\n",
              "  }\n",
              "\n",
              "  @keyframes spin {\n",
              "    0% {\n",
              "      border-color: transparent;\n",
              "      border-bottom-color: var(--fill-color);\n",
              "      border-left-color: var(--fill-color);\n",
              "    }\n",
              "    20% {\n",
              "      border-color: transparent;\n",
              "      border-left-color: var(--fill-color);\n",
              "      border-top-color: var(--fill-color);\n",
              "    }\n",
              "    30% {\n",
              "      border-color: transparent;\n",
              "      border-left-color: var(--fill-color);\n",
              "      border-top-color: var(--fill-color);\n",
              "      border-right-color: var(--fill-color);\n",
              "    }\n",
              "    40% {\n",
              "      border-color: transparent;\n",
              "      border-right-color: var(--fill-color);\n",
              "      border-top-color: var(--fill-color);\n",
              "    }\n",
              "    60% {\n",
              "      border-color: transparent;\n",
              "      border-right-color: var(--fill-color);\n",
              "    }\n",
              "    80% {\n",
              "      border-color: transparent;\n",
              "      border-right-color: var(--fill-color);\n",
              "      border-bottom-color: var(--fill-color);\n",
              "    }\n",
              "    90% {\n",
              "      border-color: transparent;\n",
              "      border-bottom-color: var(--fill-color);\n",
              "    }\n",
              "  }\n",
              "</style>\n",
              "\n",
              "  <script>\n",
              "    async function quickchart(key) {\n",
              "      const quickchartButtonEl =\n",
              "        document.querySelector('#' + key + ' button');\n",
              "      quickchartButtonEl.disabled = true;  // To prevent multiple clicks.\n",
              "      quickchartButtonEl.classList.add('colab-df-spinner');\n",
              "      try {\n",
              "        const charts = await google.colab.kernel.invokeFunction(\n",
              "            'suggestCharts', [key], {});\n",
              "      } catch (error) {\n",
              "        console.error('Error during call to suggestCharts:', error);\n",
              "      }\n",
              "      quickchartButtonEl.classList.remove('colab-df-spinner');\n",
              "      quickchartButtonEl.classList.add('colab-df-quickchart-complete');\n",
              "    }\n",
              "    (() => {\n",
              "      let quickchartButtonEl =\n",
              "        document.querySelector('#df-0b484d82-0f77-467b-b47b-8fbce837ab2c button');\n",
              "      quickchartButtonEl.style.display =\n",
              "        google.colab.kernel.accessAllowed ? 'block' : 'none';\n",
              "    })();\n",
              "  </script>\n",
              "</div>\n",
              "\n",
              "  <div id=\"id_b3b77316-4f81-4530-b79a-15caf98e5fb7\">\n",
              "    <style>\n",
              "      .colab-df-generate {\n",
              "        background-color: #E8F0FE;\n",
              "        border: none;\n",
              "        border-radius: 50%;\n",
              "        cursor: pointer;\n",
              "        display: none;\n",
              "        fill: #1967D2;\n",
              "        height: 32px;\n",
              "        padding: 0 0 0 0;\n",
              "        width: 32px;\n",
              "      }\n",
              "\n",
              "      .colab-df-generate:hover {\n",
              "        background-color: #E2EBFA;\n",
              "        box-shadow: 0px 1px 2px rgba(60, 64, 67, 0.3), 0px 1px 3px 1px rgba(60, 64, 67, 0.15);\n",
              "        fill: #174EA6;\n",
              "      }\n",
              "\n",
              "      [theme=dark] .colab-df-generate {\n",
              "        background-color: #3B4455;\n",
              "        fill: #D2E3FC;\n",
              "      }\n",
              "\n",
              "      [theme=dark] .colab-df-generate:hover {\n",
              "        background-color: #434B5C;\n",
              "        box-shadow: 0px 1px 3px 1px rgba(0, 0, 0, 0.15);\n",
              "        filter: drop-shadow(0px 1px 2px rgba(0, 0, 0, 0.3));\n",
              "        fill: #FFFFFF;\n",
              "      }\n",
              "    </style>\n",
              "    <button class=\"colab-df-generate\" onclick=\"generateWithVariable('Res')\"\n",
              "            title=\"Generate code using this dataframe.\"\n",
              "            style=\"display:none;\">\n",
              "\n",
              "  <svg xmlns=\"http://www.w3.org/2000/svg\" height=\"24px\"viewBox=\"0 0 24 24\"\n",
              "       width=\"24px\">\n",
              "    <path d=\"M7,19H8.4L18.45,9,17,7.55,7,17.6ZM5,21V16.75L18.45,3.32a2,2,0,0,1,2.83,0l1.4,1.43a1.91,1.91,0,0,1,.58,1.4,1.91,1.91,0,0,1-.58,1.4L9.25,21ZM18.45,9,17,7.55Zm-12,3A5.31,5.31,0,0,0,4.9,8.1,5.31,5.31,0,0,0,1,6.5,5.31,5.31,0,0,0,4.9,4.9,5.31,5.31,0,0,0,6.5,1,5.31,5.31,0,0,0,8.1,4.9,5.31,5.31,0,0,0,12,6.5,5.46,5.46,0,0,0,6.5,12Z\"/>\n",
              "  </svg>\n",
              "    </button>\n",
              "    <script>\n",
              "      (() => {\n",
              "      const buttonEl =\n",
              "        document.querySelector('#id_b3b77316-4f81-4530-b79a-15caf98e5fb7 button.colab-df-generate');\n",
              "      buttonEl.style.display =\n",
              "        google.colab.kernel.accessAllowed ? 'block' : 'none';\n",
              "\n",
              "      buttonEl.onclick = () => {\n",
              "        google.colab.notebook.generateWithVariable('Res');\n",
              "      }\n",
              "      })();\n",
              "    </script>\n",
              "  </div>\n",
              "\n",
              "    </div>\n",
              "  </div>\n"
            ],
            "application/vnd.google.colaboratory.intrinsic+json": {
              "type": "dataframe",
              "variable_name": "Res",
              "summary": "{\n  \"name\": \"Res\",\n  \"rows\": 16,\n  \"fields\": [\n    {\n      \"column\": \"alpha\",\n      \"properties\": {\n        \"dtype\": \"number\",\n        \"std\": 0.057735026918962554,\n        \"min\": 0.8,\n        \"max\": 0.95,\n        \"num_unique_values\": 4,\n        \"samples\": [\n          0.85,\n          0.95,\n          0.8\n        ],\n        \"semantic_type\": \"\",\n        \"description\": \"\"\n      }\n    },\n    {\n      \"column\": \"param_n_neighbors\",\n      \"properties\": {\n        \"dtype\": \"date\",\n        \"min\": 1,\n        \"max\": 7,\n        \"num_unique_values\": 4,\n        \"samples\": [\n          7,\n          1,\n          5\n        ],\n        \"semantic_type\": \"\",\n        \"description\": \"\"\n      }\n    },\n    {\n      \"column\": \"mean_test_score\",\n      \"properties\": {\n        \"dtype\": \"date\",\n        \"min\": 0.09,\n        \"max\": 0.145,\n        \"num_unique_values\": 4,\n        \"samples\": [\n          0.13999999999999999,\n          0.09,\n          0.145\n        ],\n        \"semantic_type\": \"\",\n        \"description\": \"\"\n      }\n    }\n  ]\n}"
            }
          },
          "metadata": {},
          "execution_count": 32
        }
      ],
      "source": [
        "Res"
      ]
    },
    {
      "cell_type": "code",
      "execution_count": null,
      "metadata": {
        "colab": {
          "base_uri": "https://localhost:8080/",
          "height": 807
        },
        "id": "4hLNVTsjt-VT",
        "outputId": "0b5587e0-bec9-4456-8dab-6f97c2fb4d13"
      },
      "outputs": [
        {
          "output_type": "display_data",
          "data": {
            "text/plain": [
              "<Figure size 1000x800 with 4 Axes>"
            ],
            "image/png": "[encoded data removed]"
          },
          "metadata": {}
        }
      ],
      "source": [
        "ResultDF = pd.DataFrame.from_dict(MetricResults)\n",
        "\n",
        "ax = ResultDF.plot.bar(x='alpha', subplots=True, layout=(2, 2), figsize=(10, 8), logy=True, legend=None)    #using log scale to show large differences\n",
        "#ax = ResultDF.plot.bar(x='alpha', subplots=True, layout=(2, 2), figsize=(10, 8), ylim=(0.5, 1),legend=None)\n",
        "\n",
        "plt.tight_layout()\n",
        "plt.show()"
      ]
    },
    {
      "cell_type": "code",
      "execution_count": null,
      "metadata": {
        "colab": {
          "base_uri": "https://localhost:8080/",
          "height": 611
        },
        "id": "6EBCL5gkDWcT",
        "outputId": "45876abb-c3a4-4b30-b4b5-649f707a1a79"
      },
      "outputs": [
        {
          "output_type": "display_data",
          "data": {
            "text/plain": [
              "<Figure size 680.75x600 with 6 Axes>"
            ],
            "image/png": "[encoded data removed]"
          },
          "metadata": {}
        }
      ],
      "source": [
        "visualization_data = Res[['alpha', 'param_n_neighbors', 'mean_test_score']]\n",
        "\n",
        "sns.pairplot(visualization_data, hue='alpha', diag_kind='kde', height=3)\n",
        "plt.show()\n"
      ]
    },
    {
      "cell_type": "markdown",
      "metadata": {
        "id": "pRhjBMR2_v3B"
      },
      "source": [
        "## Bonus 70 30 split"
      ]
    },
    {
      "cell_type": "code",
      "execution_count": null,
      "metadata": {
        "id": "mLXluPZBt-Xp"
      },
      "outputs": [],
      "source": [
        "from sklearn.model_selection import train_test_split\n",
        "\n",
        "x_train, x_test, y_train, y_test = train_test_split(data_matrix, label_vector, test_size=0.3, stratify=label_vector)\n",
        "#x_train = np.asarray(x_train)\n",
        "#x_test = np.asarray(x_test)\n",
        "#y_train = np.asarray(y_train)\n",
        "\n",
        "#y_test = np.asarray(y_test)"
      ]
    },
    {
      "cell_type": "code",
      "execution_count": null,
      "metadata": {
        "colab": {
          "base_uri": "https://localhost:8080/",
          "height": 788
        },
        "id": "OGPcweCJ6yAe",
        "outputId": "7add389a-33a1-4c6a-8dc9-c7f8bcf75c31"
      },
      "outputs": [
        {
          "metadata": {
            "tags": null
          },
          "name": "stdout",
          "output_type": "stream",
          "text": [
            "Fitting 5 folds for each of 4 candidates, totalling 20 fits\n"
          ]
        },
        {
          "metadata": {
            "tags": null
          },
          "name": "stderr",
          "output_type": "stream",
          "text": [
            "/usr/local/lib/python3.10/dist-packages/sklearn/metrics/_classification.py:1344: UndefinedMetricWarning: Precision is ill-defined and being set to 0.0 in labels with no predicted samples. Use `zero_division` parameter to control this behavior.\n",
            "  _warn_prf(average, modifier, msg_start, len(result))\n"
          ]
        },
        {
          "output_type": "stream",
          "name": "stdout",
          "text": [
            "Fitting 5 folds for each of 4 candidates, totalling 20 fits\n"
          ]
        },
        {
          "output_type": "stream",
          "name": "stderr",
          "text": [
            "/usr/local/lib/python3.10/dist-packages/sklearn/metrics/_classification.py:1344: UndefinedMetricWarning: Precision is ill-defined and being set to 0.0 in labels with no predicted samples. Use `zero_division` parameter to control this behavior.\n",
            "  _warn_prf(average, modifier, msg_start, len(result))\n"
          ]
        },
        {
          "output_type": "stream",
          "name": "stdout",
          "text": [
            "Fitting 5 folds for each of 4 candidates, totalling 20 fits\n"
          ]
        },
        {
          "output_type": "stream",
          "name": "stderr",
          "text": [
            "/usr/local/lib/python3.10/dist-packages/sklearn/metrics/_classification.py:1344: UndefinedMetricWarning: Precision is ill-defined and being set to 0.0 in labels with no predicted samples. Use `zero_division` parameter to control this behavior.\n",
            "  _warn_prf(average, modifier, msg_start, len(result))\n"
          ]
        },
        {
          "output_type": "stream",
          "name": "stdout",
          "text": [
            "Fitting 5 folds for each of 4 candidates, totalling 20 fits\n"
          ]
        },
        {
          "output_type": "stream",
          "name": "stderr",
          "text": [
            "/usr/local/lib/python3.10/dist-packages/sklearn/metrics/_classification.py:1344: UndefinedMetricWarning: Precision is ill-defined and being set to 0.0 in labels with no predicted samples. Use `zero_division` parameter to control this behavior.\n",
            "  _warn_prf(average, modifier, msg_start, len(result))\n"
          ]
        },
        {
          "output_type": "execute_result",
          "data": {
            "text/plain": [
              "    alpha param_n_neighbors mean_test_score\n",
              "3    0.80                 7        0.139286\n",
              "7    0.85                 7        0.139286\n",
              "11   0.90                 7        0.139286\n",
              "15   0.95                 7        0.139286\n",
              "1    0.80                 3        0.132143\n",
              "5    0.85                 3        0.132143\n",
              "9    0.90                 3        0.132143\n",
              "13   0.95                 3        0.132143\n",
              "0    0.80                 1           0.125\n",
              "4    0.85                 1           0.125\n",
              "8    0.90                 1           0.125\n",
              "12   0.95                 1           0.125\n",
              "2    0.80                 5        0.121429\n",
              "6    0.85                 5        0.121429\n",
              "10   0.90                 5        0.121429\n",
              "14   0.95                 5        0.121429"
            ],
            "text/html": [
              "\n",
              "  <div id=\"df-3d29de67-b231-4e8c-915c-3b1a71b7fbb1\" class=\"colab-df-container\">\n",
              "    <div>\n",
              "<style scoped>\n",
              "    .dataframe tbody tr th:only-of-type {\n",
              "        vertical-align: middle;\n",
              "    }\n",
              "\n",
              "    .dataframe tbody tr th {\n",
              "        vertical-align: top;\n",
              "    }\n",
              "\n",
              "    .dataframe thead th {\n",
              "        text-align: right;\n",
              "    }\n",
              "</style>\n",
              "<table border=\"1\" class=\"dataframe\">\n",
              "  <thead>\n",
              "    <tr style=\"text-align: right;\">\n",
              "      <th></th>\n",
              "      <th>alpha</th>\n",
              "      <th>param_n_neighbors</th>\n",
              "      <th>mean_test_score</th>\n",
              "    </tr>\n",
              "  </thead>\n",
              "  <tbody>\n",
              "    <tr>\n",
              "      <th>3</th>\n",
              "      <td>0.80</td>\n",
              "      <td>7</td>\n",
              "      <td>0.139286</td>\n",
              "    </tr>\n",
              "    <tr>\n",
              "      <th>7</th>\n",
              "      <td>0.85</td>\n",
              "      <td>7</td>\n",
              "      <td>0.139286</td>\n",
              "    </tr>\n",
              "    <tr>\n",
              "      <th>11</th>\n",
              "      <td>0.90</td>\n",
              "      <td>7</td>\n",
              "      <td>0.139286</td>\n",
              "    </tr>\n",
              "    <tr>\n",
              "      <th>15</th>\n",
              "      <td>0.95</td>\n",
              "      <td>7</td>\n",
              "      <td>0.139286</td>\n",
              "    </tr>\n",
              "    <tr>\n",
              "      <th>1</th>\n",
              "      <td>0.80</td>\n",
              "      <td>3</td>\n",
              "      <td>0.132143</td>\n",
              "    </tr>\n",
              "    <tr>\n",
              "      <th>5</th>\n",
              "      <td>0.85</td>\n",
              "      <td>3</td>\n",
              "      <td>0.132143</td>\n",
              "    </tr>\n",
              "    <tr>\n",
              "      <th>9</th>\n",
              "      <td>0.90</td>\n",
              "      <td>3</td>\n",
              "      <td>0.132143</td>\n",
              "    </tr>\n",
              "    <tr>\n",
              "      <th>13</th>\n",
              "      <td>0.95</td>\n",
              "      <td>3</td>\n",
              "      <td>0.132143</td>\n",
              "    </tr>\n",
              "    <tr>\n",
              "      <th>0</th>\n",
              "      <td>0.80</td>\n",
              "      <td>1</td>\n",
              "      <td>0.125</td>\n",
              "    </tr>\n",
              "    <tr>\n",
              "      <th>4</th>\n",
              "      <td>0.85</td>\n",
              "      <td>1</td>\n",
              "      <td>0.125</td>\n",
              "    </tr>\n",
              "    <tr>\n",
              "      <th>8</th>\n",
              "      <td>0.90</td>\n",
              "      <td>1</td>\n",
              "      <td>0.125</td>\n",
              "    </tr>\n",
              "    <tr>\n",
              "      <th>12</th>\n",
              "      <td>0.95</td>\n",
              "      <td>1</td>\n",
              "      <td>0.125</td>\n",
              "    </tr>\n",
              "    <tr>\n",
              "      <th>2</th>\n",
              "      <td>0.80</td>\n",
              "      <td>5</td>\n",
              "      <td>0.121429</td>\n",
              "    </tr>\n",
              "    <tr>\n",
              "      <th>6</th>\n",
              "      <td>0.85</td>\n",
              "      <td>5</td>\n",
              "      <td>0.121429</td>\n",
              "    </tr>\n",
              "    <tr>\n",
              "      <th>10</th>\n",
              "      <td>0.90</td>\n",
              "      <td>5</td>\n",
              "      <td>0.121429</td>\n",
              "    </tr>\n",
              "    <tr>\n",
              "      <th>14</th>\n",
              "      <td>0.95</td>\n",
              "      <td>5</td>\n",
              "      <td>0.121429</td>\n",
              "    </tr>\n",
              "  </tbody>\n",
              "</table>\n",
              "</div>\n",
              "    <div class=\"colab-df-buttons\">\n",
              "\n",
              "  <div class=\"colab-df-container\">\n",
              "    <button class=\"colab-df-convert\" onclick=\"convertToInteractive('df-3d29de67-b231-4e8c-915c-3b1a71b7fbb1')\"\n",
              "            title=\"Convert this dataframe to an interactive table.\"\n",
              "            style=\"display:none;\">\n",
              "\n",
              "  <svg xmlns=\"http://www.w3.org/2000/svg\" height=\"24px\" viewBox=\"0 -960 960 960\">\n",
              "    <path d=\"M120-120v-720h720v720H120Zm60-500h600v-160H180v160Zm220 220h160v-160H400v160Zm0 220h160v-160H400v160ZM180-400h160v-160H180v160Zm440 0h160v-160H620v160ZM180-180h160v-160H180v160Zm440 0h160v-160H620v160Z\"/>\n",
              "  </svg>\n",
              "    </button>\n",
              "\n",
              "  <style>\n",
              "    .colab-df-container {\n",
              "      display:flex;\n",
              "      gap: 12px;\n",
              "    }\n",
              "\n",
              "    .colab-df-convert {\n",
              "      background-color: #E8F0FE;\n",
              "      border: none;\n",
              "      border-radius: 50%;\n",
              "      cursor: pointer;\n",
              "      display: none;\n",
              "      fill: #1967D2;\n",
              "      height: 32px;\n",
              "      padding: 0 0 0 0;\n",
              "      width: 32px;\n",
              "    }\n",
              "\n",
              "    .colab-df-convert:hover {\n",
              "      background-color: #E2EBFA;\n",
              "      box-shadow: 0px 1px 2px rgba(60, 64, 67, 0.3), 0px 1px 3px 1px rgba(60, 64, 67, 0.15);\n",
              "      fill: #174EA6;\n",
              "    }\n",
              "\n",
              "    .colab-df-buttons div {\n",
              "      margin-bottom: 4px;\n",
              "    }\n",
              "\n",
              "    [theme=dark] .colab-df-convert {\n",
              "      background-color: #3B4455;\n",
              "      fill: #D2E3FC;\n",
              "    }\n",
              "\n",
              "    [theme=dark] .colab-df-convert:hover {\n",
              "      background-color: #434B5C;\n",
              "      box-shadow: 0px 1px 3px 1px rgba(0, 0, 0, 0.15);\n",
              "      filter: drop-shadow(0px 1px 2px rgba(0, 0, 0, 0.3));\n",
              "      fill: #FFFFFF;\n",
              "    }\n",
              "  </style>\n",
              "\n",
              "    <script>\n",
              "      const buttonEl =\n",
              "        document.querySelector('#df-3d29de67-b231-4e8c-915c-3b1a71b7fbb1 button.colab-df-convert');\n",
              "      buttonEl.style.display =\n",
              "        google.colab.kernel.accessAllowed ? 'block' : 'none';\n",
              "\n",
              "      async function convertToInteractive(key) {\n",
              "        const element = document.querySelector('#df-3d29de67-b231-4e8c-915c-3b1a71b7fbb1');\n",
              "        const dataTable =\n",
              "          await google.colab.kernel.invokeFunction('convertToInteractive',\n",
              "                                                    [key], {});\n",
              "        if (!dataTable) return;\n",
              "\n",
              "        const docLinkHtml = 'Like what you see? Visit the ' +\n",
              "          '<a target=\"_blank\" href=https://colab.research.google.com/notebooks/data_table.ipynb>data table notebook</a>'\n",
              "          + ' to learn more about interactive tables.';\n",
              "        element.innerHTML = '';\n",
              "        dataTable['output_type'] = 'display_data';\n",
              "        await google.colab.output.renderOutput(dataTable, element);\n",
              "        const docLink = document.createElement('div');\n",
              "        docLink.innerHTML = docLinkHtml;\n",
              "        element.appendChild(docLink);\n",
              "      }\n",
              "    </script>\n",
              "  </div>\n",
              "\n",
              "\n",
              "<div id=\"df-3a23789f-d472-414e-bd90-a407d86bcf9e\">\n",
              "  <button class=\"colab-df-quickchart\" onclick=\"quickchart('df-3a23789f-d472-414e-bd90-a407d86bcf9e')\"\n",
              "            title=\"Suggest charts\"\n",
              "            style=\"display:none;\">\n",
              "\n",
              "<svg xmlns=\"http://www.w3.org/2000/svg\" height=\"24px\"viewBox=\"0 0 24 24\"\n",
              "     width=\"24px\">\n",
              "    <g>\n",
              "        <path d=\"M19 3H5c-1.1 0-2 .9-2 2v14c0 1.1.9 2 2 2h14c1.1 0 2-.9 2-2V5c0-1.1-.9-2-2-2zM9 17H7v-7h2v7zm4 0h-2V7h2v10zm4 0h-2v-4h2v4z\"/>\n",
              "    </g>\n",
              "</svg>\n",
              "  </button>\n",
              "\n",
              "<style>\n",
              "  .colab-df-quickchart {\n",
              "      --bg-color: #E8F0FE;\n",
              "      --fill-color: #1967D2;\n",
              "      --hover-bg-color: #E2EBFA;\n",
              "      --hover-fill-color: #174EA6;\n",
              "      --disabled-fill-color: #AAA;\n",
              "      --disabled-bg-color: #DDD;\n",
              "  }\n",
              "\n",
              "  [theme=dark] .colab-df-quickchart {\n",
              "      --bg-color: #3B4455;\n",
              "      --fill-color: #D2E3FC;\n",
              "      --hover-bg-color: #434B5C;\n",
              "      --hover-fill-color: #FFFFFF;\n",
              "      --disabled-bg-color: #3B4455;\n",
              "      --disabled-fill-color: #666;\n",
              "  }\n",
              "\n",
              "  .colab-df-quickchart {\n",
              "    background-color: var(--bg-color);\n",
              "    border: none;\n",
              "    border-radius: 50%;\n",
              "    cursor: pointer;\n",
              "    display: none;\n",
              "    fill: var(--fill-color);\n",
              "    height: 32px;\n",
              "    padding: 0;\n",
              "    width: 32px;\n",
              "  }\n",
              "\n",
              "  .colab-df-quickchart:hover {\n",
              "    background-color: var(--hover-bg-color);\n",
              "    box-shadow: 0 1px 2px rgba(60, 64, 67, 0.3), 0 1px 3px 1px rgba(60, 64, 67, 0.15);\n",
              "    fill: var(--button-hover-fill-color);\n",
              "  }\n",
              "\n",
              "  .colab-df-quickchart-complete:disabled,\n",
              "  .colab-df-quickchart-complete:disabled:hover {\n",
              "    background-color: var(--disabled-bg-color);\n",
              "    fill: var(--disabled-fill-color);\n",
              "    box-shadow: none;\n",
              "  }\n",
              "\n",
              "  .colab-df-spinner {\n",
              "    border: 2px solid var(--fill-color);\n",
              "    border-color: transparent;\n",
              "    border-bottom-color: var(--fill-color);\n",
              "    animation:\n",
              "      spin 1s steps(1) infinite;\n",
              "  }\n",
              "\n",
              "  @keyframes spin {\n",
              "    0% {\n",
              "      border-color: transparent;\n",
              "      border-bottom-color: var(--fill-color);\n",
              "      border-left-color: var(--fill-color);\n",
              "    }\n",
              "    20% {\n",
              "      border-color: transparent;\n",
              "      border-left-color: var(--fill-color);\n",
              "      border-top-color: var(--fill-color);\n",
              "    }\n",
              "    30% {\n",
              "      border-color: transparent;\n",
              "      border-left-color: var(--fill-color);\n",
              "      border-top-color: var(--fill-color);\n",
              "      border-right-color: var(--fill-color);\n",
              "    }\n",
              "    40% {\n",
              "      border-color: transparent;\n",
              "      border-right-color: var(--fill-color);\n",
              "      border-top-color: var(--fill-color);\n",
              "    }\n",
              "    60% {\n",
              "      border-color: transparent;\n",
              "      border-right-color: var(--fill-color);\n",
              "    }\n",
              "    80% {\n",
              "      border-color: transparent;\n",
              "      border-right-color: var(--fill-color);\n",
              "      border-bottom-color: var(--fill-color);\n",
              "    }\n",
              "    90% {\n",
              "      border-color: transparent;\n",
              "      border-bottom-color: var(--fill-color);\n",
              "    }\n",
              "  }\n",
              "</style>\n",
              "\n",
              "  <script>\n",
              "    async function quickchart(key) {\n",
              "      const quickchartButtonEl =\n",
              "        document.querySelector('#' + key + ' button');\n",
              "      quickchartButtonEl.disabled = true;  // To prevent multiple clicks.\n",
              "      quickchartButtonEl.classList.add('colab-df-spinner');\n",
              "      try {\n",
              "        const charts = await google.colab.kernel.invokeFunction(\n",
              "            'suggestCharts', [key], {});\n",
              "      } catch (error) {\n",
              "        console.error('Error during call to suggestCharts:', error);\n",
              "      }\n",
              "      quickchartButtonEl.classList.remove('colab-df-spinner');\n",
              "      quickchartButtonEl.classList.add('colab-df-quickchart-complete');\n",
              "    }\n",
              "    (() => {\n",
              "      let quickchartButtonEl =\n",
              "        document.querySelector('#df-3a23789f-d472-414e-bd90-a407d86bcf9e button');\n",
              "      quickchartButtonEl.style.display =\n",
              "        google.colab.kernel.accessAllowed ? 'block' : 'none';\n",
              "    })();\n",
              "  </script>\n",
              "</div>\n",
              "\n",
              "  <div id=\"id_f871f2fe-72c2-44e5-b352-1792290de6ec\">\n",
              "    <style>\n",
              "      .colab-df-generate {\n",
              "        background-color: #E8F0FE;\n",
              "        border: none;\n",
              "        border-radius: 50%;\n",
              "        cursor: pointer;\n",
              "        display: none;\n",
              "        fill: #1967D2;\n",
              "        height: 32px;\n",
              "        padding: 0 0 0 0;\n",
              "        width: 32px;\n",
              "      }\n",
              "\n",
              "      .colab-df-generate:hover {\n",
              "        background-color: #E2EBFA;\n",
              "        box-shadow: 0px 1px 2px rgba(60, 64, 67, 0.3), 0px 1px 3px 1px rgba(60, 64, 67, 0.15);\n",
              "        fill: #174EA6;\n",
              "      }\n",
              "\n",
              "      [theme=dark] .colab-df-generate {\n",
              "        background-color: #3B4455;\n",
              "        fill: #D2E3FC;\n",
              "      }\n",
              "\n",
              "      [theme=dark] .colab-df-generate:hover {\n",
              "        background-color: #434B5C;\n",
              "        box-shadow: 0px 1px 3px 1px rgba(0, 0, 0, 0.15);\n",
              "        filter: drop-shadow(0px 1px 2px rgba(0, 0, 0, 0.3));\n",
              "        fill: #FFFFFF;\n",
              "      }\n",
              "    </style>\n",
              "    <button class=\"colab-df-generate\" onclick=\"generateWithVariable('Res')\"\n",
              "            title=\"Generate code using this dataframe.\"\n",
              "            style=\"display:none;\">\n",
              "\n",
              "  <svg xmlns=\"http://www.w3.org/2000/svg\" height=\"24px\"viewBox=\"0 0 24 24\"\n",
              "       width=\"24px\">\n",
              "    <path d=\"M7,19H8.4L18.45,9,17,7.55,7,17.6ZM5,21V16.75L18.45,3.32a2,2,0,0,1,2.83,0l1.4,1.43a1.91,1.91,0,0,1,.58,1.4,1.91,1.91,0,0,1-.58,1.4L9.25,21ZM18.45,9,17,7.55Zm-12,3A5.31,5.31,0,0,0,4.9,8.1,5.31,5.31,0,0,0,1,6.5,5.31,5.31,0,0,0,4.9,4.9,5.31,5.31,0,0,0,6.5,1,5.31,5.31,0,0,0,8.1,4.9,5.31,5.31,0,0,0,12,6.5,5.46,5.46,0,0,0,6.5,12Z\"/>\n",
              "  </svg>\n",
              "    </button>\n",
              "    <script>\n",
              "      (() => {\n",
              "      const buttonEl =\n",
              "        document.querySelector('#id_f871f2fe-72c2-44e5-b352-1792290de6ec button.colab-df-generate');\n",
              "      buttonEl.style.display =\n",
              "        google.colab.kernel.accessAllowed ? 'block' : 'none';\n",
              "\n",
              "      buttonEl.onclick = () => {\n",
              "        google.colab.notebook.generateWithVariable('Res');\n",
              "      }\n",
              "      })();\n",
              "    </script>\n",
              "  </div>\n",
              "\n",
              "    </div>\n",
              "  </div>\n"
            ],
            "application/vnd.google.colaboratory.intrinsic+json": {
              "type": "dataframe",
              "variable_name": "Res",
              "summary": "{\n  \"name\": \"Res\",\n  \"rows\": 16,\n  \"fields\": [\n    {\n      \"column\": \"alpha\",\n      \"properties\": {\n        \"dtype\": \"number\",\n        \"std\": 0.057735026918962554,\n        \"min\": 0.8,\n        \"max\": 0.95,\n        \"num_unique_values\": 4,\n        \"samples\": [\n          0.85,\n          0.95,\n          0.8\n        ],\n        \"semantic_type\": \"\",\n        \"description\": \"\"\n      }\n    },\n    {\n      \"column\": \"param_n_neighbors\",\n      \"properties\": {\n        \"dtype\": \"date\",\n        \"min\": 1,\n        \"max\": 7,\n        \"num_unique_values\": 4,\n        \"samples\": [\n          3,\n          5,\n          7\n        ],\n        \"semantic_type\": \"\",\n        \"description\": \"\"\n      }\n    },\n    {\n      \"column\": \"mean_test_score\",\n      \"properties\": {\n        \"dtype\": \"date\",\n        \"min\": 0.12142857142857141,\n        \"max\": 0.1392857142857143,\n        \"num_unique_values\": 4,\n        \"samples\": [\n          0.13214285714285712,\n          0.12142857142857141,\n          0.1392857142857143\n        ],\n        \"semantic_type\": \"\",\n        \"description\": \"\"\n      }\n    }\n  ]\n}"
            }
          },
          "metadata": {},
          "execution_count": 38
        }
      ],
      "source": [
        "Metrics = [precision_score, recall_score, f1_score]\n",
        "MetricResults = defaultdict(list)\n",
        "CVresults = defaultdict(list)\n",
        "CVresults, MetricResults, Res = KNN(alpha_values, x_train, y_train, x_test, y_test, CVresults, MetricResults, Metrics)\n",
        "Res"
      ]
    },
    {
      "cell_type": "code",
      "execution_count": null,
      "metadata": {
        "colab": {
          "base_uri": "https://localhost:8080/",
          "height": 807
        },
        "id": "15TOEYr_63hp",
        "outputId": "86f02d3a-77f3-4981-cd78-c76f2e38f3ca"
      },
      "outputs": [
        {
          "output_type": "display_data",
          "data": {
            "text/plain": [
              "<Figure size 1000x800 with 4 Axes>"
            ],
            "image/png": "[encoded data removed]"
          },
          "metadata": {}
        }
      ],
      "source": [
        "ResultDF = pd.DataFrame.from_dict(MetricResults)\n",
        "# Create a bar plot with separate subplots for each metric\n",
        "numeric_cols = ResultDF.select_dtypes(include=[np.number])\n",
        "ax = ResultDF.plot.bar(x='alpha', subplots=True, layout=(2, 2), figsize=(10, 8), logy=True, legend=None)\n",
        "#ax = ResultDF.plot.bar(x='alpha', subplots=True, layout=(2, 2), figsize=(10, 8), ylim=(0.5, 1),legend=None)\n",
        "\n",
        "plt.tight_layout()\n",
        "plt.show()"
      ]
    },
    {
      "cell_type": "code",
      "execution_count": null,
      "metadata": {
        "colab": {
          "base_uri": "https://localhost:8080/",
          "height": 611
        },
        "id": "0EPKjvvjDzqD",
        "outputId": "fc59ebba-473d-4e2c-f165-9f8bcce95c60"
      },
      "outputs": [
        {
          "output_type": "display_data",
          "data": {
            "text/plain": [
              "<Figure size 680.75x600 with 6 Axes>"
            ],
            "image/png": "[encoded data removed]"
          },
          "metadata": {}
        }
      ],
      "source": [
        "visualization_data = Res[['alpha', 'param_n_neighbors', 'mean_test_score']]\n",
        "\n",
        "# Create a pair plot to visualize relationships\n",
        "sns.pairplot(visualization_data, hue='alpha', diag_kind='kde', height=3)\n",
        "plt.show()\n"
      ]
    },
    {
      "cell_type": "markdown",
      "metadata": {
        "id": "QSuOQOZg_ZFt"
      },
      "source": [
        "# Classifying Faces vs Non Faces"
      ]
    },
    {
      "cell_type": "code",
      "execution_count": null,
      "metadata": {
        "id": "hp0lwaGW_cx8"
      },
      "outputs": [],
      "source": [
        "!unzip pokemon.zip"
      ]
    },
    {
      "cell_type": "code",
      "execution_count": null,
      "metadata": {
        "id": "tfb3fmBaAaNu"
      },
      "outputs": [],
      "source": [
        "data_matrix_pokemon = np.zeros((400,10304))"
      ]
    },
    {
      "cell_type": "code",
      "execution_count": null,
      "metadata": {
        "id": "JxTiSKtWAaNu"
      },
      "outputs": [],
      "source": [
        "PokemonNames = os.listdir('images/images/')\n",
        "for _ in range(409):\n",
        "    index = random.randint(0, len(PokemonNames) - 1)\n",
        "    PokemonNames.pop(index)"
      ]
    },
    {
      "cell_type": "code",
      "execution_count": null,
      "metadata": {
        "id": "05KZn5JS_dA_"
      },
      "outputs": [],
      "source": [
        "for i, pokemon in enumerate(PokemonNames):\n",
        "    path_for_image = 'images/images/' + pokemon\n",
        "    image = cv2.imread(path_for_image, cv2.IMREAD_GRAYSCALE)\n",
        "    resized = cv2.resize(image, (92, 112))\n",
        "    img = np.array(resized).flatten()\n",
        "    cupy_image = np.asarray(img)\n",
        "    data_matrix_pokemon[i, :] = cupy_image\n",
        "\n",
        "data_matrix = np.zeros((400,10304))\n"
      ]
    },
    {
      "cell_type": "code",
      "execution_count": null,
      "metadata": {
        "id": "BL3GP4cv_dDG"
      },
      "outputs": [],
      "source": [
        "print(data_matrix_pokemon.shape)"
      ]
    },
    {
      "cell_type": "code",
      "execution_count": null,
      "metadata": {
        "id": "r1J3LVmD_dFN"
      },
      "outputs": [],
      "source": [
        "merged_data = np.concatenate((data_matrix, data_matrix_pokemon), axis=0) #stacking the rows vertically\n",
        "\n",
        "# Create labels vector\n",
        "labels_data = np.ones((data_matrix.shape[0],), dtype=np.float32)\n",
        "labels_pokemon = np.zeros((data_matrix_pokemon.shape[0],), dtype=np.float32)\n",
        "labels = np.concatenate((labels_data, labels_pokemon))\n",
        "\n",
        "# Shuffle the data and labels in unison\n",
        "indices = np.arange(merged_data.shape[0])\n",
        "np.random.shuffle(indices)  #in-place shuffling\n",
        "\n",
        "shuffled_data = merged_data[indices]\n",
        "shuffled_labels = labels[indices]\n",
        "\n",
        "# Split into train and test sets\n",
        "x_train, x_test, y_train, y_test = train_test_split(shuffled_data, shuffled_labels, test_size=0.2, random_state=42)"
      ]
    },
    {
      "cell_type": "code",
      "execution_count": null,
      "metadata": {
        "id": "Td9n84yA_dHj"
      },
      "outputs": [],
      "source": [
        "Metrics = [precision_score, recall_score, f1_score]\n",
        "MetricResults = defaultdict(list)\n",
        "CVresults = defaultdict(list)\n",
        "alpha_values = [0.8, 0.85, 0.9, 0.95]"
      ]
    },
    {
      "cell_type": "code",
      "execution_count": null,
      "metadata": {
        "id": "AH0Ztk4f_dJ6"
      },
      "outputs": [],
      "source": [
        "eigVal, eigVec = ProjectionMatrix(x_train)\n",
        "CVresults, MetricResults, Res = KNN(alpha_values, x_train, y_train, x_test, y_test, CVresults, MetricResults, Metrics)"
      ]
    },
    {
      "cell_type": "code",
      "execution_count": null,
      "metadata": {
        "id": "S7Ac17Sr_dOk"
      },
      "outputs": [],
      "source": [
        "ResultDF = pd.DataFrame.from_dict(MetricResults)\n",
        "\n",
        "#ax = ResultDF.plot.bar(x='alpha', subplots=True, layout=(2, 2), figsize=(10, 8), logy=True, legend=None)\n",
        "ax = ResultDF.plot.bar(x='alpha', subplots=True, layout=(2, 2), figsize=(10, 8), ylim=(0.5, 1),legend=None)\n",
        "\n",
        "plt.tight_layout()\n",
        "plt.show()"
      ]
    },
    {
      "cell_type": "markdown",
      "metadata": {
        "id": "jeV4O-WqIXv8"
      },
      "source": [
        "**Varying number of non faces samples**"
      ]
    },
    {
      "cell_type": "code",
      "execution_count": null,
      "metadata": {
        "id": "B5D568A6IZL_"
      },
      "outputs": [],
      "source": [
        "num_pokemon_range = range(450, 801, 50)\n",
        "# PokemonNames = os.listdir('images/images/')\n",
        "accuracy_results = []\n",
        "\n",
        "for num_pokemon_images in num_pokemon_range:\n",
        "    for _ in range(num_pokemon_images):\n",
        "      indexxx = random.randint(0, len(PokemonNames) - 1)\n",
        "      PokemonNames.pop(indexxx)\n",
        "\n",
        "    for i, pokemon in enumerate(PokemonNames):\n",
        "      path_for_image = 'images/images/' + pokemon\n",
        "      image = cv2.imread(path_for_image, cv2.IMREAD_GRAYSCALE)\n",
        "      resized = cv2.resize(image, (92, 112))\n",
        "      img = np.array(resized).flatten()\n",
        "      cupy_image = np.asarray(img)\n",
        "      data_matrix_pokemon[i, :] = cupy_image\n",
        "\n",
        "\n",
        "    merged_data = np.concatenate((data_matrix, data_matrix_pokemon), axis=0) #stacking the rows vertically\n",
        "\n",
        "    # Create labels vector\n",
        "    labels_data = np.ones((data_matrix.shape[0],), dtype=np.float32)\n",
        "    labels_pokemon = np.zeros((data_matrix_pokemon.shape[0],), dtype=np.float32)\n",
        "    labels = np.concatenate((labels_data, labels_pokemon))\n",
        "\n",
        "    # Shuffle the data and labels in unison\n",
        "    indices = np.arange(merged_data.shape[0])\n",
        "    np.random.shuffle(indices)  #in-place shuffling\n",
        "\n",
        "    shuffled_data = merged_data[indices]\n",
        "    shuffled_labels = labels[indices]\n",
        "\n",
        "    # Split into train and test sets\n",
        "    x_train, x_test, y_train, y_test = train_test_split(shuffled_data, shuffled_labels, test_size=0.2, random_state=42)\n",
        "\n",
        "\n",
        "    Metrics = [precision_score, recall_score, f1_score]\n",
        "    MetricResults = defaultdict(list)\n",
        "    CVresults = defaultdict(list)\n",
        "    alpha_values = [0.8, 0.85, 0.9, 0.95]\n",
        "\n",
        "    eigVal, eigVec = ProjectionMatrix(x_train)\n",
        "    CVresults, MetricResults, Res = KNN(alpha_values, x_train, y_train, x_test, y_test, CVresults, MetricResults, Metrics)\n",
        "    accuracy= MetricResults['accuracy_score']\n",
        "    # Append the accuracy to the results list\n",
        "    accuracy_results.append(accuracy)\n",
        "\n",
        "# Plotting the results\n",
        "plt.plot(num_pokemon_range, accuracy_results, marker='o')\n",
        "plt.xlabel('Number of Pokémon Images in Training Data')\n",
        "plt.ylabel('Accuracy')\n",
        "plt.title('Accuracy vs. Number of Pokémon Images')\n",
        "plt.show()"
      ]
    },
    {
      "cell_type": "code",
      "execution_count": null,
      "metadata": {
        "id": "sCwOnLstU5oR"
      },
      "outputs": [],
      "source": [
        "num_pokemon_range = range(450, 801, 50)\n",
        "accuracy_results = []\n",
        "\n",
        "original_PokemonNames = os.listdir('images/images/')  # Create a copy of the original list\n",
        "\n",
        "for num_pokemon_images in num_pokemon_range:\n",
        "    PokemonNames = original_PokemonNames.copy()  # Use the copy in each iteration\n",
        "    for _ in range(num_pokemon_images):\n",
        "        indexxx = random.randint(0, len(PokemonNames) - 1)\n",
        "        PokemonNames.pop(indexxx)\n",
        "\n",
        "    for i, pokemon in enumerate(PokemonNames):\n",
        "        path_for_image = 'images/images/' + pokemon\n",
        "        image = cv2.imread(path_for_image, cv2.IMREAD_GRAYSCALE)\n",
        "        resized = cv2.resize(image, (92, 112))\n",
        "        img = np.array(resized).flatten()\n",
        "        cupy_image = np.asarray(img)\n",
        "        data_matrix_pokemon[i, :] = cupy_image\n",
        "\n",
        "    merged_data = np.concatenate((data_matrix, data_matrix_pokemon), axis=0)\n",
        "\n",
        "    labels_data = np.ones((data_matrix.shape[0],), dtype=np.float32)\n",
        "    labels_pokemon = np.zeros((data_matrix_pokemon.shape[0],), dtype=np.float32)\n",
        "    labels = np.concatenate((labels_data, labels_pokemon))\n",
        "\n",
        "    indices = np.arange(merged_data.shape[0])\n",
        "    np.random.shuffle(indices)\n",
        "\n",
        "    shuffled_data = merged_data[indices]\n",
        "    shuffled_labels = labels[indices]\n",
        "\n",
        "    x_train, x_test, y_train, y_test = train_test_split(shuffled_data, shuffled_labels, test_size=0.2, random_state=42)\n",
        "\n",
        "    Metrics = [precision_score, recall_score, f1_score]\n",
        "    MetricResults = defaultdict(list)\n",
        "    CVresults = defaultdict(list)\n",
        "    alpha_values = [0.8, 0.85, 0.9, 0.95]\n",
        "\n",
        "    CVresults, MetricResults, Res = KNN(alpha_values, x_train, y_train, x_test, y_test, CVresults, MetricResults, Metrics)\n",
        "    accuracy = MetricResults['accuracy_score']\n",
        "    accuracy_results.append(accuracy)\n",
        "\n",
        "# Plotting the results\n",
        "plt.plot(num_pokemon_range, accuracy_results, marker='o')\n",
        "plt.xlabel('Number of Pokémon Images in Training Data')\n",
        "plt.ylabel('Accuracy')\n",
        "plt.title('Accuracy vs. Number of Pokémon Images')\n",
        "plt.show()\n"
      ]
    },
    {
      "cell_type": "code",
      "execution_count": null,
      "metadata": {
        "id": "d7czDjCkFmVu"
      },
      "outputs": [],
      "source": []
    }
  ],
  "metadata": {
    "colab": {
      "provenance": [],
      "gpuType": "T4",
      "include_colab_link": true
    },
    "kernelspec": {
      "display_name": "Python 3",
      "name": "python3"
    },
    "language_info": {
      "name": "python"
    },
    "accelerator": "GPU"
  },
  "nbformat": 4,
  "nbformat_minor": 0
}